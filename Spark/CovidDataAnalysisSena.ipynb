{
 "cells": [
  {
   "cell_type": "code",
   "execution_count": 5,
   "id": "fe91c99d-d307-4c4d-8e49-53c09ba150eb",
   "metadata": {
    "scrolled": true
   },
   "outputs": [
    {
     "name": "stdout",
     "output_type": "stream",
     "text": [
      "Requirement already satisfied: pyspark in c:\\users\\vc\\appdata\\roaming\\python\\python312\\site-packages (3.5.2)\n",
      "Requirement already satisfied: py4j==0.10.9.7 in c:\\users\\vc\\appdata\\roaming\\python\\python312\\site-packages (from pyspark) (0.10.9.7)\n",
      "Note: you may need to restart the kernel to use updated packages.\n"
     ]
    }
   ],
   "source": [
    "pip install pyspark\n"
   ]
  },
  {
   "cell_type": "code",
   "execution_count": 1,
   "id": "31e287a7-a324-4c99-906e-d8da83fbdc7c",
   "metadata": {},
   "outputs": [
    {
     "name": "stdout",
     "output_type": "stream",
     "text": [
      "Requirement already satisfied: findspark in c:\\users\\vc\\appdata\\roaming\\python\\python312\\site-packages (2.0.1)\n",
      "Note: you may need to restart the kernel to use updated packages.\n"
     ]
    }
   ],
   "source": [
    "\n",
    "pip install findspark"
   ]
  },
  {
   "cell_type": "code",
   "execution_count": 61,
   "id": "af82bd17-4aaf-4846-8cec-4672aeaa29d7",
   "metadata": {},
   "outputs": [],
   "source": [
    "from pyspark.sql import SparkSession\n",
    "from pyspark.sql.functions import col, lower, max, min, row_number, sum as spark_sum, month, date_format\n",
    "from pyspark.sql.window import Window\n",
    "\n",
    "# Initialize Spark Session\n",
    "spark = SparkSession.builder.appName(\"CovidDataAnalysis\").getOrCreate()\n",
    "\n"
   ]
  },
  {
   "cell_type": "code",
   "execution_count": 62,
   "id": "bb1614bf-2205-4f3f-81d3-a58cc4acc419",
   "metadata": {},
   "outputs": [
    {
     "name": "stdout",
     "output_type": "stream",
     "text": [
      "+------------------+\n",
      "|Name of State / UT|\n",
      "+------------------+\n",
      "|kerala            |\n",
      "|kerala            |\n",
      "|kerala            |\n",
      "|kerala            |\n",
      "|kerala            |\n",
      "|kerala            |\n",
      "|kerala            |\n",
      "|kerala            |\n",
      "|kerala            |\n",
      "|kerala            |\n",
      "|kerala            |\n",
      "|kerala            |\n",
      "|kerala            |\n",
      "|kerala            |\n",
      "|kerala            |\n",
      "|kerala            |\n",
      "|kerala            |\n",
      "|kerala            |\n",
      "|kerala            |\n",
      "|kerala            |\n",
      "+------------------+\n",
      "only showing top 20 rows\n",
      "\n"
     ]
    }
   ],
   "source": [
    "df = df.withColumn(\"Name of State / UT\", lower(col(\"Name of State / UT\")))\n",
    "df.select('Name of State / UT').show(truncate=False)"
   ]
  },
  {
   "cell_type": "code",
   "execution_count": 63,
   "id": "0f67a3d2-8bcb-4e59-b68c-158692d50b9a",
   "metadata": {},
   "outputs": [
    {
     "name": "stdout",
     "output_type": "stream",
     "text": [
      "The day with the greatest number of COVID cases: 2020-07-26\n"
     ]
    }
   ],
   "source": [
    "#day with the greatest number of COVID cases:\n",
    "max_cases_day = df.orderBy(col(\"New cases\").desc()).select(\"Date\").first()\n",
    "print(f\"The day with the greatest number of COVID cases: {max_cases_day['Date']}\")\n"
   ]
  },
  {
   "cell_type": "code",
   "execution_count": 82,
   "id": "d9557189-8d82-4a22-988a-ea6e20fc2975",
   "metadata": {},
   "outputs": [
    {
     "name": "stdout",
     "output_type": "stream",
     "text": [
      "The state with the second-largest number of COVID cases: tamil nadu with 7847083.0 cases\n"
     ]
    }
   ],
   "source": [
    "#The state with the second-largest number of COVID cases\n",
    "\n",
    "# Aggregate total confirmed cases by state\n",
    "aggregated_df = df.groupBy(\"Name of State / UT\") \\\n",
    "                  .agg(spark_sum(\"Total Confirmed cases\").alias(\"Total Confirmed cases\"))\n",
    "\n",
    "# Create window spec and rank states\n",
    "window_spec = Window.orderBy(col(\"Total Confirmed cases\").desc())\n",
    "ranked_states = aggregated_df.withColumn(\"rank\", row_number().over(window_spec))\n",
    "\n",
    "second_largest_state = top_two_states.filter(col(\"rank\") == 2).first()\n",
    "\n",
    "print(f\"The state with the second-largest number of COVID cases: {second_largest_state['Name of State / UT']} with {second_largest_state['Total Confirmed cases']} cases\")"
   ]
  },
  {
   "cell_type": "code",
   "execution_count": 65,
   "id": "e7a4ba65-96a5-41c4-b90f-d57a711b4a58",
   "metadata": {},
   "outputs": [
    {
     "name": "stdout",
     "output_type": "stream",
     "text": [
      "The state with the least number of deaths: union territory of ladakh\n"
     ]
    }
   ],
   "source": [
    "#The state with the least number of deaths\n",
    "state_least_deaths = df.groupBy(\"Name of State / UT\") \\\n",
    "                       .agg(spark_sum(\"Death\").alias(\"Total_Deaths\")) \\\n",
    "                       .orderBy(col(\"Total_Deaths\").asc()) \\\n",
    "                       .select(\"Name of State / UT\")\n",
    "print(f\"The state with the least number of deaths: {state_least_deaths.first()['Name of State / UT']}\")\n"
   ]
  },
  {
   "cell_type": "code",
   "execution_count": 84,
   "id": "1b312863-d6f6-4a5c-ab6e-36a5332e2291",
   "metadata": {},
   "outputs": [
    {
     "name": "stdout",
     "output_type": "stream",
     "text": [
      "The state with the lowest Death to Total Confirmed cases ratio: puducherry\n"
     ]
    }
   ],
   "source": [
    "#The state with the lowest Death to Total Confirmed cases ratio\n",
    "df = df.withColumn(\"Death_to_Confirmed_ratio\", col(\"Death\") / col(\"Total Confirmed cases\"))\n",
    "state_lowest_ratio = df.orderBy(col(\"Death_to_Confirmed_ratio\").asc()).select(\"Name of State / UT\").first()\n",
    "print(f\"The state with the lowest Death to Total Confirmed cases ratio: {state_lowest_ratio['Name of State / UT']}\")\n"
   ]
  },
  {
   "cell_type": "code",
   "execution_count": 86,
   "id": "8be37945-345a-4a62-b622-ac084f8705c4",
   "metadata": {},
   "outputs": [
    {
     "name": "stdout",
     "output_type": "stream",
     "text": [
      "The month with the most new recovered cases: July\n"
     ]
    }
   ],
   "source": [
    "#The month with the most new recovered cases\n",
    "df = df.withColumn(\"Month\", month(col(\"Date\")))\n",
    "most_recovered_month = df.groupBy(\"Month\").agg(spark_sum(\"New recovered\").alias(\"Total New Recovered\")).orderBy(col(\"Total New Recovered\").desc()).select(\"Month\").first()\n",
    "\n",
    "month_name = {\n",
    "    1: \"January\",\n",
    "    2: \"February\",\n",
    "    3: \"March\",\n",
    "    4: \"April\",\n",
    "    5: \"May\",\n",
    "    6: \"June\",\n",
    "    7: \"July\",\n",
    "    8: \"August\",\n",
    "    9: \"September\",\n",
    "    10: \"October\",\n",
    "    11: \"November\",\n",
    "    12: \"December\"\n",
    "}\n",
    "\n",
    "print(f\"The month with the most new recovered cases: {month_name[most_recovered_month['Month']]}\")\n"
   ]
  },
  {
   "cell_type": "code",
   "execution_count": null,
   "id": "a0987f3e-f29b-4bc3-9884-c09a5dcd7780",
   "metadata": {},
   "outputs": [],
   "source": []
  }
 ],
 "metadata": {
  "kernelspec": {
   "display_name": "Python 3 (ipykernel)",
   "language": "python",
   "name": "python3"
  },
  "language_info": {
   "codemirror_mode": {
    "name": "ipython",
    "version": 3
   },
   "file_extension": ".py",
   "mimetype": "text/x-python",
   "name": "python",
   "nbconvert_exporter": "python",
   "pygments_lexer": "ipython3",
   "version": "3.12.4"
  }
 },
 "nbformat": 4,
 "nbformat_minor": 5
}
